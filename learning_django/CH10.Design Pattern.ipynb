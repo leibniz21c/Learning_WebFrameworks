{
 "cells": [
  {
   "cell_type": "markdown",
   "id": "80ea235d-6000-49da-8c21-74e2793209ff",
   "metadata": {},
   "source": [
    "# CH10. Design Pattern\n",
    "---"
   ]
  },
  {
   "cell_type": "markdown",
   "id": "a44688b9-8339-4dbf-8e3f-3d21c08b5d74",
   "metadata": {},
   "source": [
    "### 1. MVT 패턴\n",
    "MVT는 Model, View, Template를 의미하고 Django에서 사용되는 디자인 패턴이다."
   ]
  },
  {
   "cell_type": "markdown",
   "id": "0f9b8880-582f-41e9-8a54-0596eaa58f38",
   "metadata": {},
   "source": [
    "### 2. Model\n",
    "MVC 패턴의 Model에 대응되며 __DB에 저장되는 데이터를 의미__ 한다. 각각의 Model은 class로 정의되며, 하나의 class는 하나의 table이다. CH02에서 언급된 것 처럼 Django에서는 ORM을 지원하기 때문에 Python 코드로 DB 조작이 가능하다. "
   ]
  },
  {
   "cell_type": "markdown",
   "id": "2c975244-fb8e-4484-a52b-4c3b23897df8",
   "metadata": {},
   "source": [
    "### 3. Template\n",
    "MVC 패턴의 View에 대응되며 __유저에게 보여지는 화면을 의미__ 한다. Django는 __View 에서 로직을 처리한 후 html 파일을 context와 함께 렌더링__ 하는데 이 때의 html 파일을 Template라고 말한다. 추가적으로 Django는 자체적으로 Template 문법을 지원하며 이 문법 덕분에 html 파일 내에서 context로 받은 데이터를 활용할 수 있다. "
   ]
  },
  {
   "cell_type": "markdown",
   "id": "88ce8c2e-bd1a-4eca-a1ff-b0c1ba8d3fd7",
   "metadata": {},
   "source": [
    "### 4. View\n",
    "MVC 패턴의 Controller에 대응되며 요청에 따라 적절한 로직을 수행하여 결과를 템플릿으로 랜더링하며 응답한다. 물론 백앤드에서 데이터만 주고 받는 경우도 있다. "
   ]
  },
  {
   "cell_type": "markdown",
   "id": "da0a83e0-871f-4697-aaed-717c5f3f1b34",
   "metadata": {},
   "source": [
    "### 5. Summary\n",
    "정리하면 다음과 같은 과정이 진행된다.\n",
    "1. User가 url로 요청을 한다.\n",
    "2. 요청한 url에 해당하는 view를 호출한다.\n",
    "3. view가 로직을 수행하며 model이 DB와 통신(with ORM)하게 한다.\n",
    "4. view는 지정된 템플릿을 렌더링(with context)하고 결과를 User에게 응답한다."
   ]
  }
 ],
 "metadata": {
  "kernelspec": {
   "display_name": "Python 3",
   "language": "python",
   "name": "python3"
  },
  "language_info": {
   "codemirror_mode": {
    "name": "ipython",
    "version": 3
   },
   "file_extension": ".py",
   "mimetype": "text/x-python",
   "name": "python",
   "nbconvert_exporter": "python",
   "pygments_lexer": "ipython3",
   "version": "3.9.4"
  }
 },
 "nbformat": 4,
 "nbformat_minor": 5
}
