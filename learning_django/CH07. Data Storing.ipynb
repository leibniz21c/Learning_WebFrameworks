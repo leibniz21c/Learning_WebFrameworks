{
 "cells": [
  {
   "cell_type": "markdown",
   "metadata": {},
   "source": [
    "# CH07. Data Storing\n",
    "---\n",
    "페이지 요청을 통해서 데이터를 저장하는 방법에 대해서 정리하자. 상세조회 화면(detail)에 답변을 입력할 수 있는 텍스트창(textarea)을 생성하고 \"답변등록\"이라는 버튼을 생성하여 답변(Answer)데이터를 저장해 보도록 하자.<br>\n",
    "### 1. 답변등록 버튼\n",
    "상세조회 템플릿에 다음처럼 답변을 저장할 수 있는 기능을 추가해 보자.<br>\n",
    "``` templates/myapp/question_detail.html ```\n",
    "```html\n",
    "<h1>{{ question.subject }}</h1>\n",
    "\n",
    "<div>\n",
    "    {{ question.content }}\n",
    "</div>\n",
    "\n",
    "<!-- ---------------------[ edit ]----------------------- -->\n",
    "<form action=\"\">\n",
    "```"
   ]
  }
 ],
 "metadata": {
  "kernelspec": {
   "display_name": "Python 3",
   "language": "python",
   "name": "python3"
  },
  "language_info": {
   "codemirror_mode": {
    "name": "ipython",
    "version": 3
   },
   "file_extension": ".py",
   "mimetype": "text/x-python",
   "name": "python",
   "nbconvert_exporter": "python",
   "pygments_lexer": "ipython3",
   "version": "3.7.6"
  }
 },
 "nbformat": 4,
 "nbformat_minor": 4
}
