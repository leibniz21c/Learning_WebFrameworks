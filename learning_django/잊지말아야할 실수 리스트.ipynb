{
 "cells": [
  {
   "cell_type": "markdown",
   "metadata": {},
   "source": [
    "1. \n",
    "```python\n",
    "# myapp.model.py\n",
    "\n",
    "from django.db import models\n",
    "\n",
    "def Question(models.Model):\n",
    "    subject = models.CharField(max_length=200)\n",
    "    pass\n",
    "```\n",
    "소요 시간 3시간"
   ]
  }
 ],
 "metadata": {
  "kernelspec": {
   "display_name": "Python 3",
   "language": "python",
   "name": "python3"
  },
  "language_info": {
   "codemirror_mode": {
    "name": "ipython",
    "version": 3
   },
   "file_extension": ".py",
   "mimetype": "text/x-python",
   "name": "python",
   "nbconvert_exporter": "python",
   "pygments_lexer": "ipython3",
   "version": "3.7.6"
  }
 },
 "nbformat": 4,
 "nbformat_minor": 4
}
