{
 "cells": [
  {
   "cell_type": "markdown",
   "metadata": {},
   "source": [
    "# Appendix. Login and Logout\n",
    "---\n",
    " myapp은 여러사람이 사용하는 질문답변 게시판이다. 하지만 현재까지 myapp에는 회원가입 기능도 로그인, 로그아웃 기능도 없었다. 질문을 올린 사람, 답변을 올린 사람을 구별하기 위해서는 로그인과 로그아웃 기능이 필수이다. <br><br>\n",
    "\n",
    " 장고의 로그인, 로그아웃을 도와주는 앱은 ``` django.contrib.auth ```이다. 이 앱은 장고 프로젝트 생성시 다음처럼 자동으로 추가된다. <br><br>\n",
    " \n",
    "``` mysite/setting.py ```<br>\n",
    "```python\n",
    "INSTALLED_APPS = [\n",
    "    ...\n",
    "    'django.contrib.auth',\n",
    "    ...\n",
    "]\n",
    "```\n",
    "### 1. \n",
    "\n"
   ]
  }
 ],
 "metadata": {
  "kernelspec": {
   "display_name": "Python 3",
   "language": "python",
   "name": "python3"
  },
  "language_info": {
   "codemirror_mode": {
    "name": "ipython",
    "version": 3
   },
   "file_extension": ".py",
   "mimetype": "text/x-python",
   "name": "python",
   "nbconvert_exporter": "python",
   "pygments_lexer": "ipython3",
   "version": "3.7.6"
  }
 },
 "nbformat": 4,
 "nbformat_minor": 4
}
