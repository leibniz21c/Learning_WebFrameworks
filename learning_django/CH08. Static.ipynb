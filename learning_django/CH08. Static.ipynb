{
 "cells": [
  {
   "cell_type": "markdown",
   "metadata": {},
   "source": [
    "# CH02. Static\n",
    "---\n",
    "목록조회 화면과 상세조회 화면이 그럴싸하지가 않다. 화면에 디자인을 적용해보자. 디자인을 적용하기 위해서는 스타일시트(stylesheet, CSS file)파일을 사용해야 한다.<br>\n",
    "이번 장에서는 myapp에 스타일시트 파일을 적용해 보자.\n",
    "<br>\n",
    "### 1. Static Directory\n",
    " 우선 스태틱(static) 파일이란 주로 이미지(png, jpg)나 자바스크립트(js), 스타일시트(css)와 같은 파일을 의미한다.<br>\n",
    " 템플릿과 마찬가지로 setting.py에 등록해 주어야 한다. (파일 끝에 추가하자.)<br>\n",
    "``` mysite/settings.py ```<br>\n",
    "```python\n",
    "...\n",
    "STATIC_URL = '/static/'\n",
    "\n",
    "# ----------------[ edit ]----------------- #\n",
    "STATICFILES_DIRS = [\n",
    "    os.path.join(BASE_DIR, 'static'),\n",
    "]\n",
    "# ----------------------------------------- #\n",
    "\n",
    "```\n",
    " \n",
    " 이제 static 파일을 다음 디렉토리 하위에 저장하자.<br>\n",
    "``` projects/mysite/static ``` <br>\n",
    "그리고 style.css 파일을 작성해보자.<br>\n",
    "``` static/style.css ```<br>\n",
    "```c\n",
    "textarea {\n",
    "    width:100%;\n",
    "}\n",
    "\n",
    "input[type=submit] {\n",
    "    margin-top:10px\n",
    "}\n",
    "```\n",
    "답변 등록시 사용되는 텍스트창의 넓이를 100%로 설정하였다.<br>\n",
    "답변 등록 버튼 상단에 10px(픽셀)의 마진을 주도록 설정하였다.<br><br>\n",
    "\n",
    "### 2. 템플릿에 스타일시트 적용하기\n",
    " 이제 작성한 스타일을 적용하기 위해 상세조회 템플릿을 다음과 같이 수정한다.\n",
    "``` myapp/question_detail.html ```<br>\n",
    "```html\n",
    "...\n",
    "    </head>\n",
    "    <body>\n",
    "    {% load static %}\n",
    "    <link rel=\"stylesheet\" type=\"text/css\" href=\"{% static 'style.css' %}\">\n",
    "...\n",
    "```\n",
    "이제 될꺼다. 그럴싸해졌는지는 잘 모르겠다."
   ]
  },
  {
   "cell_type": "code",
   "execution_count": null,
   "metadata": {},
   "outputs": [],
   "source": []
  }
 ],
 "metadata": {
  "kernelspec": {
   "display_name": "Python 3",
   "language": "python",
   "name": "python3"
  },
  "language_info": {
   "codemirror_mode": {
    "name": "ipython",
    "version": 3
   },
   "file_extension": ".py",
   "mimetype": "text/x-python",
   "name": "python",
   "nbconvert_exporter": "python",
   "pygments_lexer": "ipython3",
   "version": "3.7.6"
  }
 },
 "nbformat": 4,
 "nbformat_minor": 4
}
