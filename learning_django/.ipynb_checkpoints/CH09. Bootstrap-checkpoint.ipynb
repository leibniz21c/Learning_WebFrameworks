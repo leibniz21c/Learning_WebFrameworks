{
 "cells": [
  {
   "cell_type": "markdown",
   "metadata": {},
   "source": [
    "# CH09. Bootstrap\n",
    "---\n",
    " 웹의 디자인에 있어서 많은 도움을 받을 수 있는 프레임워크이다. 트위터를 개발하면서 만들어졌고 지속적으로 관리되고 있는 오픈소스 프로젝트이다. 이걸로 프로젝트를 깔끔하게 만들어보자.<br>\n",
    "### 1. 설치\n",
    " 별거 없다. <br>\n",
    " [Click to download Bootstrap](https://getbootstrap.com/)<br>\n",
    " 여기 접속해서 다운받자.<br><br>\n",
    " 그럼 zip 파일이 나오는데 이 중에서 bootstrap.min.css 파일을 카피해서 static directory에 저장하자.<br><br>\n",
    "\n",
    "### 2. 부트스트랩 적용\n",
    "먼저 목록조회 템플릿에 부트스트랩을 적용해 보자.<br>\n",
    "``` myapp/question_list.html ```<br>\n",
    "```html\n",
    "...\n",
    "{% load static %}\n",
    "<link rel=\"stylesheet\" type=\"text/css\" href=\"{% static 'bootstrap.min.css' %}\">\n",
    "...\n",
    "```\n",
    "템플릿 상단에 bootstrap.min.css 스타일시트를 링크하여 부트스트랩을 사용할 수 있다.\n",
    "이제 부트스트랩을 쓸 수 있게 되었으니 템플릿의 내용도 부트스트랩을 적용하여 다음과 같이 수정해 보자. <br>\n",
    "``` templates/myapp/question_list.html ```<br>\n",
    "```html\n",
    "{% load static %}\n",
    "<link rel=\"stylesheet\" type=\"text/css\" href=\"{% static 'bootstrap.min.css' %}\">\n",
    "\n",
    "<div class=\"container my-3\">\n",
    "    <table class=\"table\">\n",
    "        <thead>\n",
    "        <tr class=\"thead-dart\">\n",
    "            <th>번호</th>\n",
    "            <th>제목</th>\n",
    "            <th>작성일시</th>\n",
    "        </tr>\n",
    "        </thead>\n",
    "        <tbody>\n",
    "        {% if question_list %}\n",
    "        {% for question in question_list %}\n",
    "        <tr>\n",
    "            <td>{{ forloop.counter }}</td>\n",
    "            <td>\n",
    "                <a href=\"{% url 'myapp:detail' question.id %}\">{{ question.subject }}</a>\n",
    "            </td>\n",
    "            <td>{{ question.create_date }}</td>\n",
    "        </tr>\n",
    "        {% endfor %}\n",
    "        {% else %}\n",
    "        <tr>\n",
    "            <td colspan=\"3\">질문이 없습니다.</td>\n",
    "        </tr>\n",
    "        {% endif %}\n",
    "        </tbody>\n",
    "    </table>\n",
    "</div>\n",
    "```\n",
    "html 공부할 때 table을 안했다. 하고 와야겠다."
   ]
  },
  {
   "cell_type": "markdown",
   "metadata": {},
   "source": []
  }
 ],
 "metadata": {
  "kernelspec": {
   "display_name": "Python 3",
   "language": "python",
   "name": "python3"
  },
  "language_info": {
   "codemirror_mode": {
    "name": "ipython",
    "version": 3
   },
   "file_extension": ".py",
   "mimetype": "text/x-python",
   "name": "python",
   "nbconvert_exporter": "python",
   "pygments_lexer": "ipython3",
   "version": "3.7.6"
  }
 },
 "nbformat": 4,
 "nbformat_minor": 4
}
