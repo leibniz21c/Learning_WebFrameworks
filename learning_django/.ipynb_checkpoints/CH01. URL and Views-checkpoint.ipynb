{
 "cells": [
  {
   "cell_type": "markdown",
   "metadata": {},
   "source": [
    "# CH01. URL and Views\n",
    "---\n",
    "### 0. 장고의 흐름\n",
    "![enter image description here](https://wikidocs.net/images/page/70649/2-01_2.png)\n",
    "\n"
   ]
  },
  {
   "cell_type": "markdown",
   "metadata": {},
   "source": [
    "1. 웹브라우저에서 로컬서버로 URL을 요청\n",
    "2. urls.py에서 URL을 해석하여 views.py 파일의 index 함수를 호출\n",
    "3. 함수를 실행한 결과를 웹브라우저에 전달\n",
    "\n",
    "### 1. App생성과 URL과 VIEW의 매핑\n",
    "프로젝트내에서 한 개의 페이지로서 존재하는 기능의 단위.<br>\n",
    "생성 :\n",
    "```\n",
    "django-admin startapp myapp\n",
    "```\n",
    "생성되는 파일과 폴더의 목록 :\n",
    "```\n",
    "myapp/migrations.dir\n",
    "myapp/__init__.py    # 패키지로 인식\n",
    "myapp/admin.py\n",
    "myapp/apps.py\n",
    "myapp/models.py\n",
    "myapp/tests.py\n",
    "myapp/views.py\n",
    "```\n",
    "<strong>1.1. urls.py에 URL 매핑정보 추가하기</strong><br><br>\n",
    "``` /config/urls.py ```\n",
    "```python\n",
    "from django.contrib import admin\n",
    "from django.urls import path\n",
    "# ---------------[ edit ]------------------\n",
    "from myapp import views\n",
    "# -----------------------------------------\n",
    "\n",
    "urlpatterns = [\n",
    "    path('admin/', admin.site.urls),\n",
    "    # ----------[ edit ]-------------\n",
    "    path('myapp/', views.index), # views를 직접 import했다.\n",
    "    # -------------------------------\n",
    "]\n",
    "```\n",
    " 절차 : myapp/이라는 URL이 요청되면 <strong>views.index(request)</strong>를 호출하라는 매핑을 추가하였다. views.index(request)는 myapps/views.py 파일의 index 함수를 의미한다. <br><br>\n",
    "\n",
    "실제 요청되는 URL은 ```http://localhost:8000/myapp``` 이지만 호스트명과 포트가 생략된 URL인 ```myapp/```으로 매핑해야 한다. 왜냐하면 호스트와 포트는 서버가 어떤 환경에서 실행되는 지에 따라 변하기 때문이다. <br><br>\n",
    "\n",
    " 또 한가지 ```myapp/```을 ```myapp```이라고 하지 않고 뒤에 슬래시(```/```)를 하나 더 붙여 주었다. 이렇게 뒤에 슬래시를 붙여주면 웹브라우저 주소창에 ```http://localhost:8000/myapp```이라고 입력해도 자동으로 ```http://localhost:8000/myapp/```처럼 변환된다. 이렇게 되는 이유는 URL을 정규화하는 장고의 기능 때문이다. 그래도 URL 매핑시 슬래시를 붙여 주도록 하자.\n",
    "\n"
   ]
  },
  {
   "cell_type": "markdown",
   "metadata": {},
   "source": [
    "<strong>1.2. views.py 의 index 함수 조작하기</strong><br><br>\n",
    "1.1까지만하고 ```http://localhost:8000/myapp```에 요청을 시도하면 사이트에 연결할 수 없음이라는 오류가 표시될 것이다. 이는 myapp.views 파일에 index 함수가 정의 되어있지 않기 때문이다. myapp/views.py 파일에 index 함수를 추가하자.<br>\n",
    "``` myapp/views.py ``` \n",
    "```python\n",
    "# -----------------[ edit ]----------------------\n",
    "from django.http import HttpResponse # http response를 보내기위한 함수.\n",
    "\n",
    "def index(request):\n",
    "    return HttpResponse(\"Hello! this is myapp!\")\n",
    "# -----------------------------------------------\n",
    "```\n",
    "HttpResponse는 HTTP 요청에 대한 응답을 할 대 사용하는 장고 함수이다.<br>\n",
    "request는 장고 프레임워크에 의해 자동으로 전달되는 http request 객체이다.\n",
    "\n"
   ]
  },
  {
   "cell_type": "markdown",
   "metadata": {},
   "source": [
    "<strong>1.3. URL 분리</strong><br><br>\n",
    "이대로 진행한다면 myapp 앱에 속한 것들은 myapp 앱 디렉토리 하위에 위치하게 된다. 하지만 이대로라면 myapp 앱에 기능을 추가할 때마다 ```config/urls.py``` 파일을 수정해야 한다. 원한다면 이렇게 해도 되지만, 유지보수적 측면에서는 올바르지 않다. ```config/urls.py``` 파일을 다음처럼 수정하자.<br><br>\n",
    "``` config/urls.py ```\n",
    "```python\n",
    "from django.contrib import admin\n",
    "# ----------------[ edit ]------------------\n",
    "from django.urls import include, path # include 모듈을 추가하여 해결하겠다.\n",
    "# from myapp.views import index 를 직접 import하는 것을 제외했다.\n",
    "# ------------------------------------------\n",
    "\n",
    "urlpatterns = [\n",
    "    path('admin/', admin.site.urls),\n",
    "    # ----------------[ edit ]-------------------\n",
    "    path('myapp/', include('myapp/urls')),\n",
    "    # -------------------------------------------\n",
    "]\n",
    "```\n",
    "include 함수를 사용함으로서 myapp/이라는 url을 요청받으면 myapp/url 파일을 확인하여 매핑정보를 읽어서 처리하라는 의미이다. 이제부터는 myapp에 하위 기능들이 생겨도 myapp/urls.py만 수정하면 된다. 처음에는 당연히 myapp 폴더에 urls.py가 없다. 다음과 같이 만들면 된다.\n",
    "```python\n",
    "from django.urls import path\n",
    "\n",
    "from . import views # config.urls.py에서 import안하고 여기서 한다.\n",
    "\n",
    "urlpatterns = [\n",
    "    path('', views.index), # myapp의 홈 화면이라고 할 수 있다.\n",
    "]\n",
    "```"
   ]
  },
  {
   "cell_type": "markdown",
   "metadata": {},
   "source": [
    "<strong>APPENDIX. App 등록하기</strong><br>\n",
    "setting.py에 INSTALLED_APPS 항목에 다음과 같이 추가한다.<br>\n",
    "'myapp.apps.MyappConfig'<br><br>\n",
    "myapp.apps.MyappConfig 클래스는 Myapp/apps.py 파일에 있는 클래스이다. 이는 앱 생성시 자동으로 만들어지는 파일이다. <br><br><br>\n",
    "<strong>APPENDIX. 프로젝트 생성때 config 폴더 구성하기</strong><br>\n",
    "``` django-admin startproject mysite config . ```"
   ]
  },
  {
   "cell_type": "code",
   "execution_count": null,
   "metadata": {},
   "outputs": [],
   "source": []
  }
 ],
 "metadata": {
  "kernelspec": {
   "display_name": "Python 3",
   "language": "python",
   "name": "python3"
  },
  "language_info": {
   "codemirror_mode": {
    "name": "ipython",
    "version": 3
   },
   "file_extension": ".py",
   "mimetype": "text/x-python",
   "name": "python",
   "nbconvert_exporter": "python",
   "pygments_lexer": "ipython3",
   "version": "3.7.6"
  }
 },
 "nbformat": 4,
 "nbformat_minor": 4
}
