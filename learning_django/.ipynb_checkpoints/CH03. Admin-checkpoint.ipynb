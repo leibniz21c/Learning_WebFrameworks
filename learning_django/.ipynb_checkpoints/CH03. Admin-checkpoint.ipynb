{
 "cells": [
  {
   "cell_type": "markdown",
   "metadata": {},
   "source": [
    "# CH03. Admin\n",
    "---\n",
    "장고의 admin.py 파일에 코드를 몇 줄 추가할 때마다 마법같은 기능들이 펼쳐진다.\n",
    "<br>\n",
    "### 1. Superuser\n",
    "장고 관리자(admin)를 사용하기 위해서는 장고 관리자 화면에 접속할 수 있는 슈퍼유저(superuser)를 먼저 생성해 주어야 한다. 다음의 명령으로 슈퍼유저를 생성해 보자.<br>\n",
    "``` python manage.py createsuperuser ```<br>\n",
    "```shell\n",
    "(django_env) >python manage.py createsuperuser\n",
    "사용자 이름 (leave blank to use 'pahke'): admin\n",
    "이메일 주소: admin@mysite.com\n",
    "password:\n",
    "password (again): \n",
    "비밀번호가 너무 짧습니다. 최소 8 문자를 포함해야 합니다.\n",
    "비밀번호가 너무 일상적인 단어입니다.\n",
    "비밀번호가 전부 숫자로 되어 있습니다.\n",
    "Bypass password validation and create user anyway? [y/N]: y\n",
    "Superuser created successfully.\n",
    "\n",
    "(django_env) >\n",
    "```\n",
    "이렇게 슈퍼유저를 생성하면 장고 관리자 화면에서 로그인을 할 수 있다.\n",
    "\n",
    "\n",
    "### 2. 장고 관리자 화면\n",
    "브라우저에서 admin/ url로 접속을 하면 관리자 화면이 나타난다. 만들어둔 superuser로 접속이 가능하고 이후에 등록된 그룹과 사용자들에 대한 정보 확인과 수정이 가능하다. 진짜 강력한 기능은 다음부터다.\n",
    "\n",
    "### 3. 모델 관리\n",
    "Question이라는 모델을 admin에 등록하면 굉장히 많은 일을 할 수 있다. myapp 디렉토리내에 admin.py를 다음과 같이 수정하자.<br>\n",
    "``` myapp/admin.py ```\n",
    "```python\n",
    "# ---------------------[ edit ]-----------------------\n",
    "from django.contrib import admin\n",
    "from .models import Question, Answer\n",
    "\n",
    "admin.site.register(Question)\n",
    "admin.site.register(Answer)\n",
    "# ----------------------------------------------------\n",
    "```\n",
    "이후에 관리자 화면을 갱신해 보면 Question과 Answer이 추가된 것을 볼 수 있다.<br><br>\n",
    "편리한 점은 이 화면에서 모델의 추가, 수정, 조회, 삭제 모두 가능하다.\n",
    "\n",
    "### 4. 모델 검색\n",
    "관리자 화면에서 제목으로 질문을 검색할 수 있는 기능을 추가해 보자.<br>\n",
    "``` myapp/admin.py ```\n",
    "```python\n",
    "from django.contrib import admin\n",
    "from .models import Question, Answer\n",
    "\n",
    "# -------------------[ edit ]--------------------\n",
    "class QuestionAdmin(admin.ModelAdmin):\n",
    "    search_fields = ['subject']\n",
    "    \n",
    "    \n",
    "admin.site.register(Question, QuestionAdmin)\n",
    "# -----------------------------------------------\n",
    "```"
   ]
  }
 ],
 "metadata": {
  "kernelspec": {
   "display_name": "Python 3",
   "language": "python",
   "name": "python3"
  },
  "language_info": {
   "codemirror_mode": {
    "name": "ipython",
    "version": 3
   },
   "file_extension": ".py",
   "mimetype": "text/x-python",
   "name": "python",
   "nbconvert_exporter": "python",
   "pygments_lexer": "ipython3",
   "version": "3.7.6"
  }
 },
 "nbformat": 4,
 "nbformat_minor": 4
}
