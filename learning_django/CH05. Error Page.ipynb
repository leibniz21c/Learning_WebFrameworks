{
 "cells": [
  {
   "cell_type": "markdown",
   "metadata": {},
   "source": [
    "# CH05. Error Page\n",
    "---\n",
    "### 1. Error page\n",
    "``` http://localhost:8000/myapp/30/ ```페이지를 요청하면 DoesNotExist 오류가 발생한다. 전달된 question_id가 30이기 때문에 Question.objects.get(id=30) 이 호출되어 해당 질문을 찾을 수 없다는 오류이다.<br><br>\n",
    "\n",
    "현재 mysite/setting.py 파일에 ``` DEBUG=True ```로 설정되어 있기 때문에 브라우저에서 오류가 표시되지만 운영환경은 ``` DEBUF=False ```로 설정되기 때문에 \"Server Error(500)\"가 발생하게 될 것이다.<br><br>\n",
    "\n",
    "이렇게 잘못된 URL이 요청될 경우 \"Server Error(500)\" 오류를 리턴하는 것은ㄴ 바람직하지 않다. 보통 이런 경우에는 \"Not Found (404)\" 오류를 리턴해야 한다.<br><br>\n",
    "\n",
    ">HTTP Header 문서를 참조하면 응답코드의 종류를 알 수 있다. 이거 공부안했으면 이거부터 하고오자.<br>\n",
    "\n",
    "detail 함수를 수정하여 500 오류페이지 대신 404 오류페이지를 출력하도록 하자.<br>\n",
    "``` myapp/views.py ```\n",
    "```python\n",
    "from django.shortcuts import render, get_object_or_404\n",
    "# get_object_or_404를 추가로 import한다.\n",
    "\n",
    "...\n",
    "\n",
    "def detail(request, question_id):\n",
    "    \"\"\"\n",
    "    myapp 내용 출력\n",
    "    \"\"\"\n",
    "    question = get_object_or_404(Question, pk=question_id) # 객체를 id로 받을 때 존재하는 객체인지 확인한다.\n",
    "    context = {'question':quesiton}\n",
    "    return render(request, 'myapp/qusetion_detail.html', context)\n",
    "...\n",
    "\n",
    "```\n",
    "``` Question.objects.get(id=question_id) ``` 로 사용했던 부분을<br>\n",
    "``` get_object_or_404(Question, pk=question_id) ```로 바꾸어 주었다.<br>\n",
    "get_object_or_404 함수는 django.shortcuts에서 import하여 사용해야 한다.<br>\n",
    "여기서 사용된 pk 속성은 Question 모델의 기본키(Primary Key)인 id를 의미한다.<br><br>\n",
    "\n",
    "이제 정상적으로 404 NOT FOUND 오류페이지가 출력된다.<br><br>\n",
    "\n",
    "<strong>Appendix. 제네릭 뷰</strong><br>\n",
    " 아직은 힘들다. 나중에 꼭 도전하자."
   ]
  },
  {
   "cell_type": "code",
   "execution_count": null,
   "metadata": {},
   "outputs": [],
   "source": []
  }
 ],
 "metadata": {
  "kernelspec": {
   "display_name": "Python 3",
   "language": "python",
   "name": "python3"
  },
  "language_info": {
   "codemirror_mode": {
    "name": "ipython",
    "version": 3
   },
   "file_extension": ".py",
   "mimetype": "text/x-python",
   "name": "python",
   "nbconvert_exporter": "python",
   "pygments_lexer": "ipython3",
   "version": "3.7.6"
  }
 },
 "nbformat": 4,
 "nbformat_minor": 4
}
